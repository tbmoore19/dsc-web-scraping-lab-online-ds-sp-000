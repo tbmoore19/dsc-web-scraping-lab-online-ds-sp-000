{
 "cells": [
  {
   "cell_type": "markdown",
   "metadata": {},
   "source": [
    "# Web Scraping - Lab\n",
    "\n",
    "## Introduction\n",
    "\n",
    "Now that you've seen a more extensive example of developing a web scraping script, it's time to further practice and formalize that knowledge by writing functions to parse specific pieces of information from the web page and then synthesizing these into a larger loop that will iterate over successive web pages in order to build a complete dataset.\n",
    "\n",
    "## Objectives\n",
    "\n",
    "You will be able to:\n",
    "\n",
    "* Navigate HTML documents using Beautiful Soup's children and sibling relations\n",
    "* Select specific elements from HTML using Beautiful Soup\n",
    "* Use regular expressions to extract items with a certain pattern within Beautiful Soup\n",
    "* Determine the pagination scheme of a website and scrape multiple pages"
   ]
  },
  {
   "cell_type": "markdown",
   "metadata": {},
   "source": [
    "## Lab Overview\n",
    "\n",
    "This lab will build upon the previous lesson. In the end, you'll look to write a script that will iterate over all of the pages for the demo site and extract the title, price, star rating and availability of each book listed. Building up to that, you'll formalize the concepts from the lesson by writing functions that will extract a list of each of these features for each web page. You'll then combine these functions into the full script which will look something like this:  \n",
    "\n",
    "```python\n",
    "df = pd.DataFrame()\n",
    "for i in range(2,51):\n",
    "    url = \"http://books.toscrape.com/catalogue/page-{}.html\".format(i)\n",
    "    soup = BeautifulSoup(html_page.content, 'html.parser')\n",
    "    new_titles = retrieve_titles(soup)\n",
    "    new_star_ratings = retrieve_ratings(soup)\n",
    "    new_prices = retrieve_prices(soup)\n",
    "    new_avails = retrieve_avails(soup)\n",
    "    ...\n",
    " ```"
   ]
  },
  {
   "cell_type": "markdown",
   "metadata": {},
   "source": [
    "## Retrieving Titles\n",
    "\n",
    "To start, write a function that extracts the titles of the books on a given page. The input for the function should be the `soup` for the HTML of the page."
   ]
  },
  {
   "cell_type": "code",
   "execution_count": 1,
   "metadata": {},
   "outputs": [],
   "source": [
    "from bs4 import BeautifulSoup\n",
    "import requests\n",
    "import pandas as pd"
   ]
  },
  {
   "cell_type": "code",
   "execution_count": 2,
   "metadata": {},
   "outputs": [],
   "source": [
    "url = requests.get('http://books.toscrape.com/catalogue/page-1.html')\n",
    "soup = BeautifulSoup(url.content, 'html.parser')"
   ]
  },
  {
   "cell_type": "code",
   "execution_count": 3,
   "metadata": {},
   "outputs": [],
   "source": [
    "def retrieve_titles(soup):\n",
    "    #Your code here\n",
    "    warning = soup.find('div', class_=\"alert alert-warning\")\n",
    "    book_container = warning.nextSibling.nextSibling\n",
    "    titles = [title.find('a').attrs['title'] for title in book_container.find_all('h3')]\n",
    "\n",
    "    return titles"
   ]
  },
  {
   "cell_type": "markdown",
   "metadata": {},
   "source": [
    "## Retrieve Ratings\n",
    "\n",
    "Next, write a similar function to retrieve the star ratings on a given page. Again, the function should take in the `soup` from the given HTML page and return a list of the star ratings for the books. These star ratings should be formatted as integers."
   ]
  },
  {
   "cell_type": "code",
   "execution_count": 4,
   "metadata": {},
   "outputs": [],
   "source": [
    "def retrieve_ratings(soup):\n",
    "    #Your code here\n",
    "    warning = soup.find('div', class_=\"alert alert-warning\")\n",
    "    book_container = warning.nextSibling.nextSibling\n",
    "    \n",
    "    # Find all containers with book star ratings      \n",
    "    stars = book_container.find_all('p', class_=\"star-rating\")\n",
    "    star_rating = [s.attrs['class'][-1] for s in stars]\n",
    "    \n",
    "    # Convert star ratings from strings to int     \n",
    "    star_dict = {'One': 1, 'Two': 2, 'Three': 3, 'Four': 4, 'Five': 5}\n",
    "    ratings = [star_dict[s] for s in star_rating]\n",
    "    \n",
    "    return ratings"
   ]
  },
  {
   "cell_type": "markdown",
   "metadata": {},
   "source": [
    "## Retrieve Prices\n",
    "\n",
    "Now write a function to retrieve the prices on a given page. The function should take in the `soup` from the given page and return a list of prices formatted as floats."
   ]
  },
  {
   "cell_type": "code",
   "execution_count": 5,
   "metadata": {},
   "outputs": [],
   "source": [
    "def retrieve_prices(soup):\n",
    "    #Your code here\n",
    "    warning = soup.find('div', class_=\"alert alert-warning\")\n",
    "    book_container = warning.nextSibling.nextSibling\n",
    "    \n",
    "    # remove currency sign and convert to float     \n",
    "    prices = [float(price.text[1:]) for price in book_container.find_all('p', class_=\"price_color\")]\n",
    "    \n",
    "    return prices"
   ]
  },
  {
   "cell_type": "markdown",
   "metadata": {},
   "source": [
    "## Retrieve Availability\n",
    "\n",
    "Write a function to retrieve whether each book is available or not. The function should take in the `soup` from a given html page and return a list of the availability for each book."
   ]
  },
  {
   "cell_type": "code",
   "execution_count": 6,
   "metadata": {},
   "outputs": [],
   "source": [
    "def retrieve_availabilities(soup):\n",
    "    #Your code here\n",
    "    warning = soup.find('div', class_=\"alert alert-warning\")\n",
    "    book_container = warning.nextSibling.nextSibling\n",
    "    \n",
    "    avails = [a.text.strip() for a in book_container.find_all('p', class_=\"instock availability\")]\n",
    "    return avails"
   ]
  },
  {
   "cell_type": "markdown",
   "metadata": {},
   "source": [
    "## Create a Script to Retrieve All the Books From All 50 Pages\n",
    "\n",
    "Finally, write a script to retrieve all of the information from all 50 pages of the books.toscrape.com website. "
   ]
  },
  {
   "cell_type": "code",
   "execution_count": 7,
   "metadata": {},
   "outputs": [
    {
     "name": "stdout",
     "output_type": "stream",
     "text": [
      "(1000, 4)\n"
     ]
    },
    {
     "data": {
      "text/html": [
       "<div>\n",
       "<style scoped>\n",
       "    .dataframe tbody tr th:only-of-type {\n",
       "        vertical-align: middle;\n",
       "    }\n",
       "\n",
       "    .dataframe tbody tr th {\n",
       "        vertical-align: top;\n",
       "    }\n",
       "\n",
       "    .dataframe thead th {\n",
       "        text-align: right;\n",
       "    }\n",
       "</style>\n",
       "<table border=\"1\" class=\"dataframe\">\n",
       "  <thead>\n",
       "    <tr style=\"text-align: right;\">\n",
       "      <th></th>\n",
       "      <th>Title</th>\n",
       "      <th>Star_Rating</th>\n",
       "      <th>Price(£)</th>\n",
       "      <th>Availability</th>\n",
       "    </tr>\n",
       "  </thead>\n",
       "  <tbody>\n",
       "    <tr>\n",
       "      <td>0</td>\n",
       "      <td>A Light in the Attic</td>\n",
       "      <td>3</td>\n",
       "      <td>51.77</td>\n",
       "      <td>In stock</td>\n",
       "    </tr>\n",
       "    <tr>\n",
       "      <td>1</td>\n",
       "      <td>Tipping the Velvet</td>\n",
       "      <td>1</td>\n",
       "      <td>53.74</td>\n",
       "      <td>In stock</td>\n",
       "    </tr>\n",
       "    <tr>\n",
       "      <td>2</td>\n",
       "      <td>Soumission</td>\n",
       "      <td>1</td>\n",
       "      <td>50.1</td>\n",
       "      <td>In stock</td>\n",
       "    </tr>\n",
       "    <tr>\n",
       "      <td>3</td>\n",
       "      <td>Sharp Objects</td>\n",
       "      <td>4</td>\n",
       "      <td>47.82</td>\n",
       "      <td>In stock</td>\n",
       "    </tr>\n",
       "    <tr>\n",
       "      <td>4</td>\n",
       "      <td>Sapiens: A Brief History of Humankind</td>\n",
       "      <td>5</td>\n",
       "      <td>54.23</td>\n",
       "      <td>In stock</td>\n",
       "    </tr>\n",
       "  </tbody>\n",
       "</table>\n",
       "</div>"
      ],
      "text/plain": [
       "                                   Title Star_Rating Price(£) Availability\n",
       "0                   A Light in the Attic           3    51.77     In stock\n",
       "1                     Tipping the Velvet           1    53.74     In stock\n",
       "2                             Soumission           1     50.1     In stock\n",
       "3                          Sharp Objects           4    47.82     In stock\n",
       "4  Sapiens: A Brief History of Humankind           5    54.23     In stock"
      ]
     },
     "execution_count": 7,
     "metadata": {},
     "output_type": "execute_result"
    }
   ],
   "source": [
    "#Your code here\n",
    "new_titles = []\n",
    "new_star_ratings = []\n",
    "new_prices = []\n",
    "new_avails = []\n",
    "\n",
    "for i in range(1, 51):\n",
    "    url = \"http://books.toscrape.com/catalogue/page-{}.html\".format(i)\n",
    "    html_page = requests.get(url) \n",
    "    soup = BeautifulSoup(html_page.content, 'html.parser')\n",
    "    \n",
    "    new_titles += retrieve_titles(soup)\n",
    "    new_star_ratings += retrieve_ratings(soup)\n",
    "    new_prices += retrieve_prices(soup)\n",
    "    new_avails += retrieve_availabilities(soup)\n",
    "    \n",
    "\n",
    "df = pd.DataFrame([new_titles, new_star_ratings, new_prices, new_avails]).transpose()\n",
    "df.columns = ['Title', 'Star_Rating', 'Price(£)', 'Availability']\n",
    "print(df.shape)\n",
    "df.head()"
   ]
  },
  {
   "cell_type": "markdown",
   "metadata": {},
   "source": [
    "## Level-Up: Write a new version of the script you just wrote. \n",
    "\n",
    "If you used URL hacking to generate each successive page URL, instead write a function that retrieves the link from the `\"next\"` button at the bottom of the page. Conversely, if you already used this approach above, use URL-hacking (arguably the easier of the two methods in this case)."
   ]
  },
  {
   "cell_type": "code",
   "execution_count": 8,
   "metadata": {},
   "outputs": [],
   "source": [
    "def get_next_page(soup):\n",
    "    next_button = soup.find('li', class_=\"next\")\n",
    "    \n",
    "    if next_button:\n",
    "        return next_button.find('a').attrs['href']\n",
    "    else:\n",
    "        return None"
   ]
  },
  {
   "cell_type": "code",
   "execution_count": 9,
   "metadata": {},
   "outputs": [],
   "source": [
    "def retrieve_link(url, titles=[], ratings=[], prices=[], availability=[]):\n",
    "    html_page = requests.get(url) \n",
    "    soup = BeautifulSoup(html_page.content, 'html.parser')\n",
    "    \n",
    "    titles += retrieve_titles(soup)\n",
    "    ratings += retrieve_ratings(soup)\n",
    "    prices += retrieve_prices(soup)\n",
    "    availability += retrieve_availabilities(soup)\n",
    "    \n",
    "    next_url_ext = get_next_page(soup)\n",
    "    \n",
    "    if next_url_ext:\n",
    "        next_url = '/'.join(url.split('/')[:-1]) + '/' + next_url_ext\n",
    "        return retrieve_link(next_url, titles, ratings, prices, availability)\n",
    "    else:\n",
    "        return titles, ratings, prices, availability"
   ]
  },
  {
   "cell_type": "code",
   "execution_count": 10,
   "metadata": {},
   "outputs": [
    {
     "data": {
      "text/html": [
       "<div>\n",
       "<style scoped>\n",
       "    .dataframe tbody tr th:only-of-type {\n",
       "        vertical-align: middle;\n",
       "    }\n",
       "\n",
       "    .dataframe tbody tr th {\n",
       "        vertical-align: top;\n",
       "    }\n",
       "\n",
       "    .dataframe thead th {\n",
       "        text-align: right;\n",
       "    }\n",
       "</style>\n",
       "<table border=\"1\" class=\"dataframe\">\n",
       "  <thead>\n",
       "    <tr style=\"text-align: right;\">\n",
       "      <th></th>\n",
       "      <th>Title</th>\n",
       "      <th>Star_Rating</th>\n",
       "      <th>Price(£)</th>\n",
       "      <th>Availability</th>\n",
       "    </tr>\n",
       "  </thead>\n",
       "  <tbody>\n",
       "    <tr>\n",
       "      <td>0</td>\n",
       "      <td>A Light in the Attic</td>\n",
       "      <td>3</td>\n",
       "      <td>51.77</td>\n",
       "      <td>In stock</td>\n",
       "    </tr>\n",
       "    <tr>\n",
       "      <td>1</td>\n",
       "      <td>Tipping the Velvet</td>\n",
       "      <td>1</td>\n",
       "      <td>53.74</td>\n",
       "      <td>In stock</td>\n",
       "    </tr>\n",
       "    <tr>\n",
       "      <td>2</td>\n",
       "      <td>Soumission</td>\n",
       "      <td>1</td>\n",
       "      <td>50.1</td>\n",
       "      <td>In stock</td>\n",
       "    </tr>\n",
       "    <tr>\n",
       "      <td>3</td>\n",
       "      <td>Sharp Objects</td>\n",
       "      <td>4</td>\n",
       "      <td>47.82</td>\n",
       "      <td>In stock</td>\n",
       "    </tr>\n",
       "    <tr>\n",
       "      <td>4</td>\n",
       "      <td>Sapiens: A Brief History of Humankind</td>\n",
       "      <td>5</td>\n",
       "      <td>54.23</td>\n",
       "      <td>In stock</td>\n",
       "    </tr>\n",
       "  </tbody>\n",
       "</table>\n",
       "</div>"
      ],
      "text/plain": [
       "                                   Title Star_Rating Price(£) Availability\n",
       "0                   A Light in the Attic           3    51.77     In stock\n",
       "1                     Tipping the Velvet           1    53.74     In stock\n",
       "2                             Soumission           1     50.1     In stock\n",
       "3                          Sharp Objects           4    47.82     In stock\n",
       "4  Sapiens: A Brief History of Humankind           5    54.23     In stock"
      ]
     },
     "execution_count": 10,
     "metadata": {},
     "output_type": "execute_result"
    }
   ],
   "source": [
    "url = 'http://books.toscrape.com/'\n",
    "titles = []\n",
    "star_ratings = []\n",
    "prices = []\n",
    "avail = []\n",
    "\n",
    "titles, star_ratings, prices, avail = retrieve_link(url, titles, star_ratings, prices, avail)\n",
    "df2 = pd.DataFrame([new_titles, new_star_ratings, new_prices, new_avails]).transpose()\n",
    "df2.columns = ['Title', 'Star_Rating', 'Price(£)', 'Availability']\n",
    "df2.head()"
   ]
  },
  {
   "cell_type": "markdown",
   "metadata": {},
   "source": [
    "## Summary\n",
    "\n",
    "Well done! You just completed your first full web scraping project! You're ready to start harnessing the power of the web!"
   ]
  }
 ],
 "metadata": {
  "kernelspec": {
   "display_name": "Python 3",
   "language": "python",
   "name": "python3"
  },
  "language_info": {
   "codemirror_mode": {
    "name": "ipython",
    "version": 3
   },
   "file_extension": ".py",
   "mimetype": "text/x-python",
   "name": "python",
   "nbconvert_exporter": "python",
   "pygments_lexer": "ipython3",
   "version": "3.6.9"
  }
 },
 "nbformat": 4,
 "nbformat_minor": 2
}
